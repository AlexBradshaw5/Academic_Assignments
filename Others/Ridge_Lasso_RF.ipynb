{
 "cells": [
  {
   "cell_type": "code",
   "execution_count": 436,
   "id": "3f5f12b8",
   "metadata": {},
   "outputs": [],
   "source": [
    "import numpy as np\n",
    "import pandas as pd\n",
    "import matplotlib.pyplot as plt\n",
    "from sklearn.model_selection import train_test_split\n",
    "from sklearn.linear_model import LogisticRegression\n",
    "from sklearn.preprocessing import StandardScaler\n",
    "from sklearn.metrics import accuracy_score\n",
    "from sklearn.linear_model import LinearRegression\n",
    "from sklearn.preprocessing import StandardScaler\n",
    "from sklearn.model_selection import LeaveOneOut\n",
    "from sklearn.model_selection import cross_val_predict\n",
    "from sklearn.model_selection import cross_val_score\n",
    "from sklearn.model_selection import KFold\n",
    "from sklearn.utils import resample\n",
    "from sklearn.metrics import r2_score\n",
    "from sklearn.linear_model import Lasso\n",
    "from sklearn.linear_model import LassoCV\n",
    "from sklearn.linear_model import RidgeCV\n",
    "from sklearn.linear_model import Ridge\n",
    "from sklearn.model_selection import RandomizedSearchCV\n",
    "from sklearn.ensemble import RandomForestRegressor"
   ]
  },
  {
   "cell_type": "markdown",
   "id": "3a7cef69",
   "metadata": {},
   "source": [
    "## 1. Getting data"
   ]
  },
  {
   "cell_type": "code",
   "execution_count": 437,
   "id": "af8a475e",
   "metadata": {},
   "outputs": [],
   "source": [
    "def get_data():\n",
    "    ! wget http://archive.ics.uci.edu/ml/machine-learning-databases/communities/communities.data\n",
    "    ! wget http://archive.ics.uci.edu/ml/machine-learning-databases/communities/communities.names"
   ]
  },
  {
   "cell_type": "code",
   "execution_count": 438,
   "id": "42bb872d",
   "metadata": {},
   "outputs": [
    {
     "name": "stdout",
     "output_type": "stream",
     "text": [
      "--2022-11-04 17:31:29--  http://archive.ics.uci.edu/ml/machine-learning-databases/communities/communities.data\n",
      "Resolving archive.ics.uci.edu (archive.ics.uci.edu)... 128.195.10.252\n",
      "Connecting to archive.ics.uci.edu (archive.ics.uci.edu)|128.195.10.252|:80... connected.\n",
      "HTTP request sent, awaiting response... 200 OK\n",
      "Length: 1102815 (1.1M) [application/x-httpd-php]\n",
      "Saving to: 'communities.data.2'\n",
      "\n",
      "communities.data.2  100%[===================>]   1.05M  6.06MB/s    in 0.2s    \n",
      "\n",
      "2022-11-04 17:31:29 (6.06 MB/s) - 'communities.data.2' saved [1102815/1102815]\n",
      "\n",
      "--2022-11-04 17:31:29--  http://archive.ics.uci.edu/ml/machine-learning-databases/communities/communities.names\n",
      "Resolving archive.ics.uci.edu (archive.ics.uci.edu)... 128.195.10.252\n",
      "Connecting to archive.ics.uci.edu (archive.ics.uci.edu)|128.195.10.252|:80... connected.\n",
      "HTTP request sent, awaiting response... 200 OK\n",
      "Length: 27179 (27K) [application/x-httpd-php]\n",
      "Saving to: 'communities.names.2'\n",
      "\n",
      "communities.names.2 100%[===================>]  26.54K  --.-KB/s    in 0.04s   \n",
      "\n",
      "2022-11-04 17:31:30 (690 KB/s) - 'communities.names.2' saved [27179/27179]\n",
      "\n"
     ]
    }
   ],
   "source": [
    "get_data()"
   ]
  },
  {
   "cell_type": "code",
   "execution_count": 460,
   "id": "3ab58005",
   "metadata": {},
   "outputs": [],
   "source": [
    "#remove first 5 columns\n",
    "df = pd.read_csv('communities.data', header=None, na_values='?')\n",
    "for i in range(5):\n",
    "    df.drop(df.columns[0], axis = 1, inplace=True)\n",
    "# replace nan with median\n",
    "df.fillna(df.median(), inplace=True)"
   ]
  },
  {
   "cell_type": "code",
   "execution_count": 440,
   "id": "e4411fa7",
   "metadata": {},
   "outputs": [
    {
     "data": {
      "text/plain": [
       "(1994, 122)"
      ]
     },
     "execution_count": 440,
     "metadata": {},
     "output_type": "execute_result"
    }
   ],
   "source": [
    "# create target variable\n",
    "Y = df[df.columns[-1]]\n",
    "X = df.drop(Y.name, axis = 1)\n",
    "X.shape # proper shape check"
   ]
  },
  {
   "cell_type": "markdown",
   "id": "67589706",
   "metadata": {},
   "source": [
    "## 2. Split data"
   ]
  },
  {
   "cell_type": "code",
   "execution_count": 461,
   "id": "48578ca6",
   "metadata": {
    "scrolled": true
   },
   "outputs": [
    {
     "data": {
      "text/plain": [
       "(1794, 122)"
      ]
     },
     "execution_count": 461,
     "metadata": {},
     "output_type": "execute_result"
    }
   ],
   "source": [
    "x_train, x_test, y_train, y_test = train_test_split(X, Y, test_size=0.10, random_state=13)\n",
    "x_train.shape"
   ]
  },
  {
   "cell_type": "markdown",
   "id": "85c87dcb",
   "metadata": {},
   "source": [
    "## 3. Scaling, NA's, EDA\n"
   ]
  },
  {
   "cell_type": "code",
   "execution_count": 469,
   "id": "af1caef9",
   "metadata": {
    "scrolled": true
   },
   "outputs": [
    {
     "name": "stdout",
     "output_type": "stream",
     "text": [
      "Columns where max!=1: [65]\n",
      "Columns where min!=0: []\n"
     ]
    },
    {
     "data": {
      "text/plain": [
       "count    1794.000000\n",
       "mean        0.783016\n",
       "std         0.228449\n",
       "min         0.000000\n",
       "25%         0.720000\n",
       "50%         0.870000\n",
       "75%         0.930000\n",
       "max         0.990000\n",
       "Name: 65, dtype: float64"
      ]
     },
     "execution_count": 469,
     "metadata": {},
     "output_type": "execute_result"
    }
   ],
   "source": [
    "# Min value for all columns is 0, max value for all except 65 is 1 so I scaled 65 to have the max be 1\n",
    "print('Columns where max!=1:', [x for x in x_train if x_train[x].max() != 1])\n",
    "print('Columns where min!=0:', [x for x in x_train if x_train[x].min() != 0])\n",
    "x_train[65].describe()"
   ]
  },
  {
   "cell_type": "code",
   "execution_count": 443,
   "id": "84103370",
   "metadata": {},
   "outputs": [
    {
     "name": "stdout",
     "output_type": "stream",
     "text": [
      "\tWeakest\t\t\t\tStrongest\n",
      "Variable -> Correlation\t\t Variable -> Correlation\t\t \n",
      "124 -> 0.0037077469943642203 \t 49 -> -0.7384238020704452\n",
      "100 -> -0.019458936998681786 \t 55 -> 0.7379565498586638\n",
      "80 -> 0.021282828252731645 \t 48 -> -0.7066674691569858\n",
      "52 -> -0.02253536256167052 \t 8 -> -0.684769576271543\n",
      "6 -> -0.03492259533593247 \t 50 -> -0.6660588959347973\n"
     ]
    }
   ],
   "source": [
    "# Univariate correlation between cols and target\n",
    "Cors = []\n",
    "for i in X.columns:\n",
    "    Cors.append([i, np.corrcoef(X[i], Y)[0][1]])\n",
    "Cors.sort(key = lambda x: abs(x[1])) # absolute value for general correlation\n",
    "weakest = Cors[:5]\n",
    "strongest = Cors[-5:]\n",
    "print('\\tWeakest\\t\\t\\t\\tStrongest')\n",
    "print('Variable -> Correlation\\t\\t '*2)\n",
    "for i in range(5):\n",
    "    print(weakest[i][0],'->',weakest[i][1], '\\t', strongest[4-i][0],'->',strongest[4-i][1])"
   ]
  },
  {
   "cell_type": "markdown",
   "id": "81eddd2a",
   "metadata": {},
   "source": [
    "## 4. Lasso"
   ]
  },
  {
   "cell_type": "code",
   "execution_count": 444,
   "id": "18518aac",
   "metadata": {},
   "outputs": [
    {
     "name": "stdout",
     "output_type": "stream",
     "text": [
      "0.7162857625214197 0.001\n",
      "0.6371221658674413 0.01\n",
      "-0.00112220234419258 0.1\n",
      "-0.00112220234419258 1\n",
      "-0.00112220234419258 10\n"
     ]
    }
   ],
   "source": [
    "alpha=[1e-3, 1e-2, 1e-1, 1, 10]\n",
    "for a in alpha:\n",
    "    print(LassoCV(alphas=[a]).fit(x_train, y_train).score(x_test, y_test), a)\n",
    "best_model = LassoCV(alphas = [1e-3]).fit(x_train, y_train)"
   ]
  },
  {
   "cell_type": "code",
   "execution_count": 473,
   "id": "0c757e26",
   "metadata": {
    "scrolled": true
   },
   "outputs": [
    {
     "data": {
      "text/html": [
       "<div>\n",
       "<style scoped>\n",
       "    .dataframe tbody tr th:only-of-type {\n",
       "        vertical-align: middle;\n",
       "    }\n",
       "\n",
       "    .dataframe tbody tr th {\n",
       "        vertical-align: top;\n",
       "    }\n",
       "\n",
       "    .dataframe thead th {\n",
       "        text-align: right;\n",
       "    }\n",
       "</style>\n",
       "<table border=\"1\" class=\"dataframe\">\n",
       "  <thead>\n",
       "    <tr style=\"text-align: right;\">\n",
       "      <th></th>\n",
       "      <th>7</th>\n",
       "      <th>16</th>\n",
       "      <th>29</th>\n",
       "      <th>30</th>\n",
       "      <th>43</th>\n",
       "      <th>55</th>\n",
       "      <th>73</th>\n",
       "      <th>76</th>\n",
       "      <th>79</th>\n",
       "      <th>91</th>\n",
       "      <th>95</th>\n",
       "      <th>96</th>\n",
       "      <th>125</th>\n",
       "    </tr>\n",
       "  </thead>\n",
       "  <tbody>\n",
       "    <tr>\n",
       "      <th>227</th>\n",
       "      <td>0.07</td>\n",
       "      <td>1.00</td>\n",
       "      <td>0.18</td>\n",
       "      <td>0.25</td>\n",
       "      <td>0.51</td>\n",
       "      <td>0.29</td>\n",
       "      <td>0.13</td>\n",
       "      <td>0.10</td>\n",
       "      <td>0.27</td>\n",
       "      <td>0.46</td>\n",
       "      <td>0.0</td>\n",
       "      <td>0.53</td>\n",
       "      <td>1.0</td>\n",
       "    </tr>\n",
       "    <tr>\n",
       "      <th>329</th>\n",
       "      <td>0.02</td>\n",
       "      <td>1.00</td>\n",
       "      <td>0.25</td>\n",
       "      <td>0.30</td>\n",
       "      <td>0.38</td>\n",
       "      <td>0.29</td>\n",
       "      <td>0.97</td>\n",
       "      <td>0.03</td>\n",
       "      <td>0.15</td>\n",
       "      <td>0.71</td>\n",
       "      <td>0.0</td>\n",
       "      <td>1.00</td>\n",
       "      <td>0.0</td>\n",
       "    </tr>\n",
       "    <tr>\n",
       "      <th>745</th>\n",
       "      <td>0.38</td>\n",
       "      <td>1.00</td>\n",
       "      <td>0.32</td>\n",
       "      <td>0.34</td>\n",
       "      <td>0.56</td>\n",
       "      <td>0.19</td>\n",
       "      <td>0.23</td>\n",
       "      <td>0.03</td>\n",
       "      <td>0.00</td>\n",
       "      <td>0.40</td>\n",
       "      <td>0.0</td>\n",
       "      <td>0.45</td>\n",
       "      <td>0.0</td>\n",
       "    </tr>\n",
       "    <tr>\n",
       "      <th>491</th>\n",
       "      <td>1.00</td>\n",
       "      <td>0.00</td>\n",
       "      <td>0.21</td>\n",
       "      <td>0.00</td>\n",
       "      <td>0.63</td>\n",
       "      <td>1.00</td>\n",
       "      <td>0.27</td>\n",
       "      <td>0.05</td>\n",
       "      <td>0.36</td>\n",
       "      <td>0.70</td>\n",
       "      <td>0.0</td>\n",
       "      <td>0.02</td>\n",
       "      <td>0.0</td>\n",
       "    </tr>\n",
       "    <tr>\n",
       "      <th>19</th>\n",
       "      <td>0.05</td>\n",
       "      <td>0.58</td>\n",
       "      <td>0.00</td>\n",
       "      <td>0.00</td>\n",
       "      <td>0.31</td>\n",
       "      <td>0.06</td>\n",
       "      <td>0.04</td>\n",
       "      <td>0.01</td>\n",
       "      <td>0.31</td>\n",
       "      <td>0.19</td>\n",
       "      <td>0.0</td>\n",
       "      <td>0.02</td>\n",
       "      <td>0.0</td>\n",
       "    </tr>\n",
       "  </tbody>\n",
       "</table>\n",
       "</div>"
      ],
      "text/plain": [
       "      7     16    29    30    43    55    73    76    79    91   95    96   \\\n",
       "227  0.07  1.00  0.18  0.25  0.51  0.29  0.13  0.10  0.27  0.46  0.0  0.53   \n",
       "329  0.02  1.00  0.25  0.30  0.38  0.29  0.97  0.03  0.15  0.71  0.0  1.00   \n",
       "745  0.38  1.00  0.32  0.34  0.56  0.19  0.23  0.03  0.00  0.40  0.0  0.45   \n",
       "491  1.00  0.00  0.21  0.00  0.63  1.00  0.27  0.05  0.36  0.70  0.0  0.02   \n",
       "19   0.05  0.58  0.00  0.00  0.31  0.06  0.04  0.01  0.31  0.19  0.0  0.02   \n",
       "\n",
       "     125  \n",
       "227  1.0  \n",
       "329  0.0  \n",
       "745  0.0  \n",
       "491  0.0  \n",
       "19   0.0  "
      ]
     },
     "execution_count": 473,
     "metadata": {},
     "output_type": "execute_result"
    }
   ],
   "source": [
    "features = [x_train.columns[i] for i in range(len(x_train.columns)) if best_model.coef_[i] > 0]\n",
    "x_train[features].head() # only features chosen"
   ]
  },
  {
   "cell_type": "markdown",
   "id": "ef74c26b",
   "metadata": {},
   "source": [
    "The best regularization constant was 0.001 with an $R^2$ value of 0.7163. This means our model was able to predict about 72% of the data\\\n",
    "Only 13 features were selected by this model and they were:\\\n",
    "7, 16,\t29,\t30,\t43,\t55,\t73,\t76,\t79,\t91,\t95,\t96 and 125.\n",
    "\n",
    "The algebraic expression this model is minimizing is: \\\n",
    "$$L(\\beta) = (y-X\\beta)^T(y-X\\beta) + \\lambda \\sum_{j=1}^{p} |{\\beta_j}| $$"
   ]
  },
  {
   "cell_type": "markdown",
   "id": "e35f0401",
   "metadata": {},
   "source": [
    "## 5. Ridge"
   ]
  },
  {
   "cell_type": "code",
   "execution_count": 446,
   "id": "844a5da1",
   "metadata": {},
   "outputs": [
    {
     "name": "stdout",
     "output_type": "stream",
     "text": [
      "0.7201135503467768 0.001\n",
      "0.7211898081435186 0.01\n",
      "0.7249030825581628 0.1\n",
      "0.7300563320958668 1\n",
      "0.7269277448684428 10\n"
     ]
    }
   ],
   "source": [
    "cv = KFold(n_splits=10, random_state=13, shuffle=True)\n",
    "for a in alpha:\n",
    "    print(RidgeCV(cv=cv, alphas = [a]).fit(x_train, y_train).score(x_test, y_test), a)\n",
    "best_rid = RidgeCV(cv=cv, alphas = [1])"
   ]
  },
  {
   "cell_type": "markdown",
   "id": "f85c14c2",
   "metadata": {},
   "source": [
    "The best constant for Ridge is 1 with an $R^2$ of 0.7301. \n",
    "\n",
    "The algebraic expression this model is minimizing is: \\\n",
    "$$L(\\beta) = (y-X\\beta)^T(y-X\\beta) + \\lambda \\sum_{j=1}^{p} {\\beta_j}^2 $$\n",
    "\n",
    "I think Ridge is simpler because it doesn't drop to 0 when the alpha gets big so you don't need to do extra work to find out what happened. It also has higher $R^2$ values."
   ]
  },
  {
   "cell_type": "markdown",
   "id": "7ded0586",
   "metadata": {},
   "source": [
    "## 6. Random Forest"
   ]
  },
  {
   "cell_type": "code",
   "execution_count": 474,
   "id": "534ca037",
   "metadata": {},
   "outputs": [],
   "source": [
    "max_depth = [int(x) for x in np.linspace(6, 20, num = 10)]\n",
    "max_features = [x for x in np.linspace(0.1, 1, num = 10)]\n",
    "min_samples_leaf = [int(x) for x in np.linspace(6, 20, num = 10)]\n",
    "random_grid = {'max_features': max_features,\n",
    "               'max_depth': max_depth,\n",
    "               'min_samples_leaf': min_samples_leaf}"
   ]
  },
  {
   "cell_type": "code",
   "execution_count": 475,
   "id": "7b4ac125",
   "metadata": {},
   "outputs": [],
   "source": [
    "m = RandomizedSearchCV(n_iter=100, n_jobs=-1, cv=cv, random_state=123,\n",
    "                       estimator=RandomForestRegressor(),\n",
    "                       param_distributions=random_grid)\n"
   ]
  },
  {
   "cell_type": "code",
   "execution_count": 477,
   "id": "943e2770",
   "metadata": {},
   "outputs": [],
   "source": [
    "rf = m.fit(x_train, y_train)"
   ]
  },
  {
   "cell_type": "code",
   "execution_count": 478,
   "id": "ba2dcfc8",
   "metadata": {},
   "outputs": [
    {
     "data": {
      "text/plain": [
       "RandomForestRegressor(max_depth=10, max_features=0.30000000000000004,\n",
       "                      min_samples_leaf=6)"
      ]
     },
     "execution_count": 478,
     "metadata": {},
     "output_type": "execute_result"
    }
   ],
   "source": [
    "rf.best_estimator_ # Best hyper parameters."
   ]
  },
  {
   "cell_type": "markdown",
   "id": "20ce9b93",
   "metadata": {},
   "source": [
    "The best hyper parameters are max_depth=10, max_features=0.2, min_samples_leaf=6)\\\n",
    "They tell us that we needed a medium depth, 20% of the features, and"
   ]
  },
  {
   "cell_type": "code",
   "execution_count": 479,
   "id": "ff58ecc3",
   "metadata": {},
   "outputs": [
    {
     "data": {
      "text/plain": [
       "0.7174242844968342"
      ]
     },
     "execution_count": 479,
     "metadata": {},
     "output_type": "execute_result"
    }
   ],
   "source": [
    "rf.score(x_test, y_test) # R^2"
   ]
  },
  {
   "cell_type": "markdown",
   "id": "4839d1d0",
   "metadata": {},
   "source": [
    "## 7. Model Selection\n",
    "The statistic that cross-validation functions use is $R^2$. Based on that criterion, Random Forests worked the best since it had the highest score. \n",
    "\n",
    "I think the best in terms of simplicity and interpretability, Ridge is the best because it had the second highest score and is easier to visualize than Random Forests in relation to $\\hat{\\beta}$ estimation. \n",
    "\n",
    "I think the scores between all 3 models are comparable although Lasso reduces some features to 0 which may lower the $R^2$ value but may increase predictability. \n",
    "\n",
    "Ridge does include the 5 features with the strongest univariate correlation with the target so that needs to be taken into account when predicting or classifying significant predictors. \n"
   ]
  },
  {
   "cell_type": "markdown",
   "id": "19226304",
   "metadata": {},
   "source": [
    "## 8. Evaluation\n"
   ]
  },
  {
   "cell_type": "code",
   "execution_count": 480,
   "id": "f0cc010c",
   "metadata": {},
   "outputs": [
    {
     "data": {
      "text/plain": [
       "0.7300563320958668"
      ]
     },
     "execution_count": 480,
     "metadata": {},
     "output_type": "execute_result"
    }
   ],
   "source": [
    "final_model = best_rid.fit(x_train, y_train)\n",
    "final_model.score(x_test, y_test) # R^2 value"
   ]
  },
  {
   "cell_type": "markdown",
   "id": "0b048311",
   "metadata": {},
   "source": [
    "I think this estimate of $R^2$ is optimistic because if there is univariate correlation our significant predictors may be off and we could possibly be overfitting the model which would give us a higher but more untrustworthy $R^2$"
   ]
  },
  {
   "cell_type": "code",
   "execution_count": 484,
   "id": "ec2195c7",
   "metadata": {},
   "outputs": [],
   "source": [
    "scores = []\n",
    "for i in range(100):\n",
    "    x_train, x_test, y_train, y_test = train_test_split(X,\n",
    "                                                        Y, test_size=0.10,\n",
    "                                                        random_state=i**3)\n",
    "    scores.append(best_rid.fit(x_train, y_train).score(x_test, y_test))\n",
    "scores = pd.Series(scores)  "
   ]
  },
  {
   "cell_type": "code",
   "execution_count": 485,
   "id": "de82e917",
   "metadata": {},
   "outputs": [
    {
     "data": {
      "text/plain": [
       "Text(0.5, 0, 'R^2 values')"
      ]
     },
     "execution_count": 485,
     "metadata": {},
     "output_type": "execute_result"
    },
    {
     "data": {
      "image/png": "[encoded data removed]",
      "text/plain": [
       "<Figure size 432x288 with 1 Axes>"
      ]
     },
     "metadata": {
      "needs_background": "light"
     },
     "output_type": "display_data"
    }
   ],
   "source": [
    "scores.values\n",
    "plt.hist(scores, color = 'purple')\n",
    "plt.ylabel('Count', size = 13)\n",
    "plt.xlabel('R^2 values', size = 12)"
   ]
  },
  {
   "cell_type": "markdown",
   "id": "baeb70de",
   "metadata": {},
   "source": [
    "My confidence interval for the true value of $R^2$ is [0.58, 0.72] which would put my original $R^2$ on the higher end of probabilities or an outlier. "
   ]
  },
  {
   "cell_type": "code",
   "execution_count": null,
   "id": "9d6be0d2",
   "metadata": {},
   "outputs": [],
   "source": []
  },
  {
   "cell_type": "code",
   "execution_count": null,
   "id": "1db6f9de",
   "metadata": {},
   "outputs": [],
   "source": []
  }
 ],
 "metadata": {
  "kernelspec": {
   "display_name": "Python 3 (ipykernel)",
   "language": "python",
   "name": "python3"
  },
  "language_info": {
   "codemirror_mode": {
    "name": "ipython",
    "version": 3
   },
   "file_extension": ".py",
   "mimetype": "text/x-python",
   "name": "python",
   "nbconvert_exporter": "python",
   "pygments_lexer": "ipython3",
   "version": "3.9.12"
  }
 },
 "nbformat": 4,
 "nbformat_minor": 5
}
