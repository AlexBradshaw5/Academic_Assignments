{
 "cells": [
  {
   "cell_type": "markdown",
   "id": "c3a880b8",
   "metadata": {},
   "source": [
    "# Implementation"
   ]
  },
  {
   "cell_type": "code",
   "execution_count": 210,
   "id": "12e4b284",
   "metadata": {},
   "outputs": [],
   "source": [
    "import numpy as np\n",
    "import matplotlib.pyplot as plt\n",
    "from numpy import trapz\n",
    "\n",
    "def soft2hard(arr, threshold):\n",
    "    return np.where(np.array(arr)<threshold, 0, 1)\n",
    "\n",
    "def to_confusion(hard_pred, truth):\n",
    "    mat = np.zeros((2,2))\n",
    "    for i in range(len(hard_pred)):\n",
    "        mat[hard_pred[i], truth[i]]+=1\n",
    "    return mat\n",
    "\n",
    "def positives(conf_mat):\n",
    "    #print('TP, FP, Precision')\n",
    "    TP, FP = conf_mat[1,1], conf_mat[1,0]\n",
    "    return TP, FP, np.round(TP/(FP+TP), 2)\n",
    "\n",
    "def plot_roc(thresholds, soft_preds, truth):\n",
    "    length = len(soft_preds)\n",
    "    FPs = [length]\n",
    "    TPs = [length]\n",
    "    for t in sorted(thresholds):\n",
    "        TP, FP, Pres = positives(to_confusion(soft2hard(soft_preds, t), truth))\n",
    "        FPs.append(FP)\n",
    "        TPs.append(TP)\n",
    "    FPs.append(0)\n",
    "    TPs.append(0)\n",
    "    plt.plot(FPs, TPs, color = 'blue')\n",
    "    plt.plot([0, length], [0, length], '--', color = 'grey')\n",
    "    plt.grid()\n",
    "    plt.xlabel('False Positives', size = 14)\n",
    "    plt.ylabel('True Positives', size = 14)\n",
    "    plt.title('ROC Curve', size = 16)\n",
    "    plt.show()\n",
    "    print('Area:', abs(trapz(y=TPs, x=FPs)))\n",
    "    return \n",
    "\n",
    "def plot_pr(thresholds, soft_preds, truth):\n",
    "    length = len(soft_preds)\n",
    "    precs = []\n",
    "    recall = []\n",
    "    thresholds = sorted(thresholds)\n",
    "    for t in thresholds:\n",
    "        mat = to_confusion(soft2hard(soft_preds, t), truth)\n",
    "        precs.append(mat[1, 1] / (mat[1, 0] + mat[1, 1]))\n",
    "        recall.append( mat[1, 1]/ (mat[0, 1] + mat[1, 1]))\n",
    "    F1 = [precs[i]*recall[i]/(precs[i]+recall[i]) for i in range(len(precs))]\n",
    "    plt.plot(recall, precs, color = 'blue')\n",
    "    plt.xlabel('Recall', size = 14)\n",
    "    plt.xlim([0,1])\n",
    "    plt.ylabel('Precision', size = 14)\n",
    "    plt.ylim([0,1])\n",
    "    plt.title('PR Plot', size = 16)\n",
    "    print('Area:', abs(trapz(precs, recall)))\n",
    "    plt.show()\n",
    "    index = np.where(F1==max(F1))[0][0]\n",
    "    return index, thresholds[index], F1[index]"
   ]
  },
  {
   "cell_type": "code",
   "execution_count": 204,
   "id": "79341e8d",
   "metadata": {},
   "outputs": [],
   "source": [
    "sp = [0.12, 0.25, 0.33, 0.41, 0.45, 0.55, 0.59, 0.62, 0.83, 0.88]\n",
    "true = [0, 0, 1, 0, 1, 1, 1, 0, 1, 1]\n",
    "thresholds = [0.2, 0.4, 0.5, 0.6, 0.8]"
   ]
  },
  {
   "cell_type": "code",
   "execution_count": 205,
   "id": "76e8fbbb",
   "metadata": {},
   "outputs": [
    {
     "data": {
      "text/plain": [
       "array([0, 1, 1, 1, 1, 1, 1, 1, 1, 1])"
      ]
     },
     "execution_count": 205,
     "metadata": {},
     "output_type": "execute_result"
    }
   ],
   "source": [
    "hard_preds = soft2hard(sp, thresholds[0])\n",
    "hard_preds"
   ]
  },
  {
   "cell_type": "code",
   "execution_count": 206,
   "id": "cd75bf7d",
   "metadata": {},
   "outputs": [
    {
     "data": {
      "text/plain": [
       "array([[1., 0.],\n",
       "       [3., 6.]])"
      ]
     },
     "execution_count": 206,
     "metadata": {},
     "output_type": "execute_result"
    }
   ],
   "source": [
    "mat = to_confusion(hard_preds, true)\n",
    "mat"
   ]
  },
  {
   "cell_type": "code",
   "execution_count": 207,
   "id": "b2cf2073",
   "metadata": {},
   "outputs": [
    {
     "data": {
      "text/plain": [
       "(6.0, 3.0, 0.67)"
      ]
     },
     "execution_count": 207,
     "metadata": {},
     "output_type": "execute_result"
    }
   ],
   "source": [
    "TP, FP, Precision = positives(mat)\n",
    "TP, FP, Precision"
   ]
  },
  {
   "cell_type": "code",
   "execution_count": 208,
   "id": "3c8b2f1c",
   "metadata": {},
   "outputs": [
    {
     "data": {
      "image/png": "[encoded data removed]",
      "text/plain": [
       "<Figure size 432x288 with 1 Axes>"
      ]
     },
     "metadata": {
      "needs_background": "light"
     },
     "output_type": "display_data"
    },
    {
     "name": "stdout",
     "output_type": "stream",
     "text": [
      "Area: 68.0\n"
     ]
    }
   ],
   "source": [
    "plot_roc(thresholds, sp, true)"
   ]
  },
  {
   "cell_type": "code",
   "execution_count": 211,
   "id": "19457ac0",
   "metadata": {},
   "outputs": [
    {
     "name": "stdout",
     "output_type": "stream",
     "text": [
      "Area: 0.48571428571428577\n"
     ]
    },
    {
     "data": {
      "image/png": "[encoded data removed]",
      "text/plain": [
       "<Figure size 432x288 with 1 Axes>"
      ]
     },
     "metadata": {
      "needs_background": "light"
     },
     "output_type": "display_data"
    },
    {
     "data": {
      "text/plain": [
       "(0, 0.2, 0.4)"
      ]
     },
     "execution_count": 211,
     "metadata": {},
     "output_type": "execute_result"
    }
   ],
   "source": [
    "plot_pr(thresholds, sp, true)"
   ]
  },
  {
   "cell_type": "markdown",
   "id": "b7c9ca3f",
   "metadata": {},
   "source": [
    "The threshold choice of 0.2 optimizes the $F_1$ score."
   ]
  },
  {
   "cell_type": "code",
   "execution_count": null,
   "id": "63cfb46c",
   "metadata": {},
   "outputs": [],
   "source": []
  }
 ],
 "metadata": {
  "kernelspec": {
   "display_name": "Python 3 (ipykernel)",
   "language": "python",
   "name": "python3"
  },
  "language_info": {
   "codemirror_mode": {
    "name": "ipython",
    "version": 3
   },
   "file_extension": ".py",
   "mimetype": "text/x-python",
   "name": "python",
   "nbconvert_exporter": "python",
   "pygments_lexer": "ipython3",
   "version": "3.9.12"
  }
 },
 "nbformat": 4,
 "nbformat_minor": 5
}
